{
 "cells": [
  {
   "cell_type": "code",
   "execution_count": 1,
   "metadata": {},
   "outputs": [],
   "source": [
    "%load_ext autoreload\n"
   ]
  },
  {
   "cell_type": "code",
   "execution_count": 2,
   "metadata": {},
   "outputs": [],
   "source": [
    "from ibm_estimator import IBMEstimator\n",
    "from vdd import VDD\n",
    "from ncd import NCD\n",
    "import heapq\n",
    "from fscore import FScore"
   ]
  },
  {
   "cell_type": "code",
   "execution_count": 3,
   "metadata": {},
   "outputs": [],
   "source": [
    "ENGLISH_PATH = \"../mt/english-senate-0.txt\"\n",
    "FRENCH_PATH = \"../mt/french-senate-0.txt\"\n",
    "TEST_ENGLISH_PATH = \"../mt/english-senate-2.txt\"\n",
    "TEST_FRENCH_PATH = \"../mt/french-senate-2.txt\"\n",
    "FRENCH_ENGLISH_MODEL = \"model/french_to_english.json\"\n",
    "ENGLISH_FRENCH_MODEL = \"model/english_to_french.json\"\n",
    "NCD_OUTPUT = \"../mt/english-translation-ncd.txt\"\n",
    "VDD_OUTPUT = \"../mt/english-translation-vdd.txt\""
   ]
  },
  {
   "cell_type": "markdown",
   "metadata": {},
   "source": [
    "# IBM Estimator"
   ]
  },
  {
   "cell_type": "markdown",
   "metadata": {},
   "source": [
    "Training IBM Estimator with Documents: This will take a while...\n"
   ]
  },
  {
   "cell_type": "code",
   "execution_count": 4,
   "metadata": {},
   "outputs": [
    {
     "name": "stdout",
     "output_type": "stream",
     "text": [
      "Files Loaded\n",
      ":Iteration 1 out of 10\n"
     ]
    },
    {
     "ename": "KeyboardInterrupt",
     "evalue": "",
     "output_type": "error",
     "traceback": [
      "\u001b[0;31m---------------------------------------------------------------------------\u001b[0m",
      "\u001b[0;31mKeyboardInterrupt\u001b[0m                         Traceback (most recent call last)",
      "\u001b[1;32m/home/rjateno1/cs65/labs/lab3-rjateno1-pchanta1/program/doc.ipynb Cell 6'\u001b[0m in \u001b[0;36m<cell line: 2>\u001b[0;34m()\u001b[0m\n\u001b[1;32m      <a href='vscode-notebook-cell://ssh-remote%2B7b22686f73744e616d65223a2263736c61622e63732e7377617274686d6f72652e656475222c2275736572223a22726a6174656e6f31227d/home/rjateno1/cs65/labs/lab3-rjateno1-pchanta1/program/doc.ipynb#ch0000005vscode-remote?line=0'>1</a>\u001b[0m ibm_estimator \u001b[39m=\u001b[39m IBMEstimator\u001b[39m.\u001b[39mfrom_file(ENGLISH_PATH, FRENCH_PATH)\n\u001b[0;32m----> <a href='vscode-notebook-cell://ssh-remote%2B7b22686f73744e616d65223a2263736c61622e63732e7377617274686d6f72652e656475222c2275736572223a22726a6174656e6f31227d/home/rjateno1/cs65/labs/lab3-rjateno1-pchanta1/program/doc.ipynb#ch0000005vscode-remote?line=1'>2</a>\u001b[0m ibm_estimator\u001b[39m.\u001b[39;49mtrain()\n",
      "File \u001b[0;32m~/cs65/labs/lab3-rjateno1-pchanta1/program/ibm_estimator.py:290\u001b[0m, in \u001b[0;36mIBMEstimator.train\u001b[0;34m(self, turns)\u001b[0m\n\u001b[1;32m    <a href='file:///home/rjateno1/cs65/labs/lab3-rjateno1-pchanta1/program/ibm_estimator.py?line=287'>288</a>\u001b[0m \u001b[39mprint\u001b[39m(\u001b[39mf\u001b[39m\u001b[39m\"\u001b[39m\u001b[39m:Iteration \u001b[39m\u001b[39m{\u001b[39;00mi\u001b[39m+\u001b[39m\u001b[39m1\u001b[39m\u001b[39m}\u001b[39;00m\u001b[39m out of \u001b[39m\u001b[39m{\u001b[39;00mturns\u001b[39m}\u001b[39;00m\u001b[39m\"\u001b[39m)\n\u001b[1;32m    <a href='file:///home/rjateno1/cs65/labs/lab3-rjateno1-pchanta1/program/ibm_estimator.py?line=288'>289</a>\u001b[0m \u001b[39mself\u001b[39m\u001b[39m.\u001b[39mn_values\u001b[39m.\u001b[39mreset()\n\u001b[0;32m--> <a href='file:///home/rjateno1/cs65/labs/lab3-rjateno1-pchanta1/program/ibm_estimator.py?line=289'>290</a>\u001b[0m \u001b[39mself\u001b[39;49m\u001b[39m.\u001b[39;49mbuild()\n",
      "File \u001b[0;32m~/cs65/labs/lab3-rjateno1-pchanta1/program/ibm_estimator.py:308\u001b[0m, in \u001b[0;36mIBMEstimator.build\u001b[0;34m(self)\u001b[0m\n\u001b[1;32m    <a href='file:///home/rjateno1/cs65/labs/lab3-rjateno1-pchanta1/program/ibm_estimator.py?line=305'>306</a>\u001b[0m             current_tau \u001b[39m=\u001b[39m \u001b[39mself\u001b[39m\u001b[39m.\u001b[39mget_tau_from_pair(pair) \u001b[39m#NOTE: IF IT'S EMPTY IT SHOULD RETURN THE DEFAULT TAU VALUE.\u001b[39;00m\n\u001b[1;32m    <a href='file:///home/rjateno1/cs65/labs/lab3-rjateno1-pchanta1/program/ibm_estimator.py?line=306'>307</a>\u001b[0m             probability \u001b[39m=\u001b[39m probability_dictionary\u001b[39m.\u001b[39mget(f) \n\u001b[0;32m--> <a href='file:///home/rjateno1/cs65/labs/lab3-rjateno1-pchanta1/program/ibm_estimator.py?line=307'>308</a>\u001b[0m             \u001b[39mself\u001b[39;49m\u001b[39m.\u001b[39;49mn_values\u001b[39m.\u001b[39;49madd_to_n_values_from_pair(pair, current_tau\u001b[39m/\u001b[39;49mprobability)\n\u001b[1;32m    <a href='file:///home/rjateno1/cs65/labs/lab3-rjateno1-pchanta1/program/ibm_estimator.py?line=310'>311</a>\u001b[0m \u001b[39mfor\u001b[39;00m i \u001b[39min\u001b[39;00m \u001b[39mrange\u001b[39m(\u001b[39mlen\u001b[39m(\u001b[39mself\u001b[39m\u001b[39m.\u001b[39msentence_pair_lst)):\n\u001b[1;32m    <a href='file:///home/rjateno1/cs65/labs/lab3-rjateno1-pchanta1/program/ibm_estimator.py?line=311'>312</a>\u001b[0m     sentence_pair \u001b[39m=\u001b[39m \u001b[39mself\u001b[39m\u001b[39m.\u001b[39msentence_pair_lst[i]   \n",
      "File \u001b[0;32m~/cs65/labs/lab3-rjateno1-pchanta1/program/ibm_estimator.py:43\u001b[0m, in \u001b[0;36mNValues.add_to_n_values_from_pair\u001b[0;34m(self, pair, new_n_v)\u001b[0m\n\u001b[1;32m     <a href='file:///home/rjateno1/cs65/labs/lab3-rjateno1-pchanta1/program/ibm_estimator.py?line=40'>41</a>\u001b[0m second \u001b[39m=\u001b[39m pair[\u001b[39m0\u001b[39m]\n\u001b[1;32m     <a href='file:///home/rjateno1/cs65/labs/lab3-rjateno1-pchanta1/program/ibm_estimator.py?line=41'>42</a>\u001b[0m \u001b[39mif\u001b[39;00m (second \u001b[39min\u001b[39;00m \u001b[39mself\u001b[39m\u001b[39m.\u001b[39mn_values):\n\u001b[0;32m---> <a href='file:///home/rjateno1/cs65/labs/lab3-rjateno1-pchanta1/program/ibm_estimator.py?line=42'>43</a>\u001b[0m     \u001b[39mif\u001b[39;00m first \u001b[39min\u001b[39;49;00m \u001b[39mself\u001b[39;49m\u001b[39m.\u001b[39;49mn_values[second]:\n\u001b[1;32m     <a href='file:///home/rjateno1/cs65/labs/lab3-rjateno1-pchanta1/program/ibm_estimator.py?line=43'>44</a>\u001b[0m         \u001b[39mself\u001b[39m\u001b[39m.\u001b[39mn_values[second][first] \u001b[39m+\u001b[39m\u001b[39m=\u001b[39m new_n_v\n\u001b[1;32m     <a href='file:///home/rjateno1/cs65/labs/lab3-rjateno1-pchanta1/program/ibm_estimator.py?line=44'>45</a>\u001b[0m     \u001b[39melse\u001b[39;00m:\n",
      "\u001b[0;31mKeyboardInterrupt\u001b[0m: "
     ]
    }
   ],
   "source": [
    "ibm_estimator = IBMEstimator.from_file(ENGLISH_PATH, FRENCH_PATH)\n",
    "ibm_estimator.train()\n"
   ]
  },
  {
   "cell_type": "markdown",
   "metadata": {},
   "source": [
    "Getting the taus from the model we have stored. This is similar to the previous training for 10 iterations"
   ]
  },
  {
   "cell_type": "code",
   "execution_count": 5,
   "metadata": {},
   "outputs": [],
   "source": [
    "ibm_estimator = IBMEstimator.from_json(FRENCH_ENGLISH_MODEL)"
   ]
  },
  {
   "cell_type": "markdown",
   "metadata": {},
   "source": [
    "### One Word and Its Translation"
   ]
  },
  {
   "cell_type": "code",
   "execution_count": 6,
   "metadata": {},
   "outputs": [
    {
     "name": "stdout",
     "output_type": "stream",
     "text": [
      "Original Word:  criminel\n",
      "Translated Word:  criminal\n"
     ]
    }
   ],
   "source": [
    "word = \"criminel\"\n",
    "translated_word = ibm_estimator.translate(word)\n",
    "\n",
    "print(\"Original Word: \", word)\n",
    "print(\"Translated Word: \", translated_word)"
   ]
  },
  {
   "cell_type": "markdown",
   "metadata": {},
   "source": [
    "### Top Five Possible Translations and Their Taus"
   ]
  },
  {
   "cell_type": "code",
   "execution_count": 7,
   "metadata": {},
   "outputs": [
    {
     "name": "stdout",
     "output_type": "stream",
     "text": [
      ", 0.6444788285316682\n",
      "LATE 0.48832479174071636\n",
      "oh 0.483584989781956\n",
      "36 0.4323556135411334\n",
      "th 0.4307887286180639\n"
     ]
    }
   ],
   "source": [
    "word = \",\"\n",
    "taus_word = ibm_estimator.taus.get_word_values(word)\n",
    "taus_word = heapq.nlargest(5, taus_word, key=taus_word.get)\n",
    "for dest in taus_word:\n",
    "    taus = ibm_estimator.get_tau_from_pair((dest, word))\n",
    "    print(dest, taus)"
   ]
  },
  {
   "cell_type": "markdown",
   "metadata": {},
   "source": [
    "### Five Words and Their Translation"
   ]
  },
  {
   "cell_type": "code",
   "execution_count": 8,
   "metadata": {},
   "outputs": [
    {
     "name": "stdout",
     "output_type": "stream",
     "text": [
      "Original Word:  Jeux\n",
      "Translated Word:  Games\n",
      "\n",
      "Original Word:  ,\n",
      "Translated Word:  ,\n",
      "\n",
      "Original Word:  .\n",
      "Translated Word:  .\n",
      "\n",
      "Original Word:  talent\n",
      "Translated Word:  talent\n",
      "\n",
      "Original Word:  criminel\n",
      "Translated Word:  criminal\n",
      "\n"
     ]
    }
   ],
   "source": [
    "words = [\"Jeux\", \",\", \".\", \"talent\", \"criminel\"]\n",
    "for word in words:\n",
    "    translated_word = ibm_estimator.translate(word)\n",
    "    print(\"Original Word: \", word)\n",
    "    print(\"Translated Word: \", translated_word)\n",
    "    print()"
   ]
  },
  {
   "cell_type": "markdown",
   "metadata": {},
   "source": [
    "# Very Dumb Decoder"
   ]
  },
  {
   "cell_type": "code",
   "execution_count": 9,
   "metadata": {},
   "outputs": [],
   "source": [
    "%reload_ext autoreload"
   ]
  },
  {
   "cell_type": "code",
   "execution_count": 10,
   "metadata": {},
   "outputs": [
    {
     "data": {
      "text/plain": [
       "'debates'"
      ]
     },
     "execution_count": 10,
     "metadata": {},
     "output_type": "execute_result"
    }
   ],
   "source": [
    "ibm_estimator = IBMEstimator.from_json(FRENCH_ENGLISH_MODEL)\n",
    "ibm_estimator.translate(\"débats\")"
   ]
  },
  {
   "cell_type": "code",
   "execution_count": 11,
   "metadata": {},
   "outputs": [],
   "source": [
    "dumb_decoder = VDD()\n",
    "dumb_decoder.ibm_estimator = ibm_estimator"
   ]
  },
  {
   "cell_type": "markdown",
   "metadata": {},
   "source": [
    "### Translate One Sentence"
   ]
  },
  {
   "cell_type": "code",
   "execution_count": 12,
   "metadata": {},
   "outputs": [
    {
     "name": "stdout",
     "output_type": "stream",
     "text": [
      "Original Sentence: débats de le Sénat ( hansard ) \n",
      "\n",
      "Translated: debates de M. Senate ( Hansard ) \n",
      "\n"
     ]
    }
   ],
   "source": [
    "\n",
    "with open(TEST_FRENCH_PATH, mode=\"r\", encoding=\"latin-1\") as fp:\n",
    "        french_data_lst = fp.readlines()\n",
    "TEST_FRENCH_SENTENCE = french_data_lst[0]\n",
    "translated = dumb_decoder.translate_sentence(TEST_FRENCH_SENTENCE)\n",
    "\n",
    "print(\"Original Sentence:\", TEST_FRENCH_SENTENCE)\n",
    "print(\"Translated:\", translated)"
   ]
  },
  {
   "cell_type": "markdown",
   "metadata": {},
   "source": [
    "### Translate Document"
   ]
  },
  {
   "cell_type": "markdown",
   "metadata": {},
   "source": [
    "Decoding the entire French Document from the Test File. This takes around 2 mins."
   ]
  },
  {
   "cell_type": "code",
   "execution_count": 13,
   "metadata": {},
   "outputs": [],
   "source": [
    "dumb_decoder.decode_document(TEST_FRENCH_PATH)\n",
    "dumb_decoder.decoded"
   ]
  },
  {
   "cell_type": "markdown",
   "metadata": {},
   "source": [
    "# Noisy Channel Decoder"
   ]
  },
  {
   "cell_type": "code",
   "execution_count": 4,
   "metadata": {},
   "outputs": [],
   "source": [
    "with open(FRENCH_PATH, mode=\"r\", encoding=\"latin-1\") as fp:\n",
    "    french_data_lst = fp.readlines()\n",
    "eng_to_fre = IBMEstimator.from_json(FRENCH_ENGLISH_MODEL)\n",
    "fre_to_eng = IBMEstimator.from_json(FRENCH_ENGLISH_MODEL)\n",
    "noisy_decoder = NCD()\n",
    "dumb_decoder = VDD()\n",
    "dumb_decoder.ibm_estimator = fre_to_eng\n",
    "noisy_decoder.build_bigram(ENGLISH_PATH)"
   ]
  },
  {
   "cell_type": "code",
   "execution_count": 5,
   "metadata": {},
   "outputs": [],
   "source": [
    "noisy_decoder.eng_to_french_estimator = eng_to_fre\n",
    "noisy_decoder.french_to_eng_estimator = fre_to_eng\n",
    "# prev: Eats\n",
    "# French - pain:: Translations: Bread, Train, Dog, Socks, ->  tau(bread, pain)  ->taus: 0.6, 0.5, 0.4, 0.3 * bigram (eats, curr_word) -> 0.6*0.8, 0.5*0.6, 0.4*0.4, 0.3*0.1"
   ]
  },
  {
   "cell_type": "markdown",
   "metadata": {},
   "source": [
    "### Translate Sentence"
   ]
  },
  {
   "cell_type": "code",
   "execution_count": 6,
   "metadata": {},
   "outputs": [],
   "source": [
    "with open(TEST_FRENCH_PATH, encoding=\"latin-1\") as fp:\n",
    "    french_test_data = fp.readlines()\n",
    "TEST_SENTENCE = french_test_data[40]"
   ]
  },
  {
   "cell_type": "code",
   "execution_count": 7,
   "metadata": {},
   "outputs": [
    {
     "data": {
      "text/plain": [
       "'nous pouvons certainement demander à tous de parler dans les deux langues officielles . \\n'"
      ]
     },
     "execution_count": 7,
     "metadata": {},
     "output_type": "execute_result"
    }
   ],
   "source": [
    "TEST_SENTENCE"
   ]
  },
  {
   "cell_type": "code",
   "execution_count": 8,
   "metadata": {},
   "outputs": [
    {
     "data": {
      "text/plain": [
       "'us indiscriminate certainly ask le all de speak streets des two languages Official . \\n'"
      ]
     },
     "execution_count": 8,
     "metadata": {},
     "output_type": "execute_result"
    }
   ],
   "source": [
    "dumb_decoder.translate_sentence(TEST_SENTENCE)"
   ]
  },
  {
   "cell_type": "code",
   "execution_count": 9,
   "metadata": {},
   "outputs": [
    {
     "data": {
      "text/plain": [
       "'we can certainly ask to all of speak contained people two languages Official .'"
      ]
     },
     "execution_count": 9,
     "metadata": {},
     "output_type": "execute_result"
    }
   ],
   "source": [
    "noisy_decoder.translate_sentence(TEST_SENTENCE)"
   ]
  },
  {
   "cell_type": "code",
   "execution_count": 10,
   "metadata": {},
   "outputs": [],
   "source": [
    "with open(TEST_ENGLISH_PATH, encoding=\"latin-1\") as fp:\n",
    "    french_test_data = fp.readlines()\n",
    "EXPECTED_ENGLISH = french_test_data[40]"
   ]
  },
  {
   "cell_type": "code",
   "execution_count": 11,
   "metadata": {},
   "outputs": [
    {
     "data": {
      "text/plain": [
       "'we can certainly ask everyone to speak in both official languages . \\n'"
      ]
     },
     "execution_count": 11,
     "metadata": {},
     "output_type": "execute_result"
    }
   ],
   "source": [
    "EXPECTED_ENGLISH\n"
   ]
  },
  {
   "cell_type": "markdown",
   "metadata": {},
   "source": [
    "### Decoding Document"
   ]
  },
  {
   "cell_type": "markdown",
   "metadata": {},
   "source": [
    "Short Version of the French Test File... "
   ]
  },
  {
   "cell_type": "code",
   "execution_count": 24,
   "metadata": {},
   "outputs": [],
   "source": [
    "SHORT_FRENCH_PATH = \"tests/test_data/test_french-senate-2.txt\"\n",
    "SHORT_ENGLISH_PATH = \"tests/test_data/test_english-senate-2.txt\""
   ]
  },
  {
   "cell_type": "markdown",
   "metadata": {},
   "source": [
    "Decoding the entire document takes around 4 mins depending on the Tau Cut off. You can change the tau cutt off by setting noisy_decoder.THRESHOLD to a higher number for faster and lower number for slower but more precise output. \n",
    "\n",
    "Warning very low thresholds take up to 40 mins to decode the document."
   ]
  },
  {
   "cell_type": "code",
   "execution_count": 12,
   "metadata": {},
   "outputs": [],
   "source": [
    "noisy_decoder.decode_document(TEST_FRENCH_PATH)"
   ]
  },
  {
   "cell_type": "code",
   "execution_count": 13,
   "metadata": {},
   "outputs": [],
   "source": [
    "noisy_decoder.to_file(\"tests/test_data/final-english-translation-ncd.txt\")"
   ]
  },
  {
   "cell_type": "markdown",
   "metadata": {},
   "source": [
    "# F Score"
   ]
  },
  {
   "cell_type": "code",
   "execution_count": 25,
   "metadata": {},
   "outputs": [
    {
     "data": {
      "text/plain": [
       "0.4001804453132552"
      ]
     },
     "execution_count": 25,
     "metadata": {},
     "output_type": "execute_result"
    }
   ],
   "source": [
    "fscore = FScore.from_file(TEST_ENGLISH_PATH, VDD_OUTPUT)\n",
    "fscore.build()\n",
    "fscore.calculate()"
   ]
  },
  {
   "cell_type": "code",
   "execution_count": 14,
   "metadata": {},
   "outputs": [
    {
     "data": {
      "text/plain": [
       "0.5256758643652729"
      ]
     },
     "execution_count": 14,
     "metadata": {},
     "output_type": "execute_result"
    }
   ],
   "source": [
    "fscore = FScore.from_file(TEST_ENGLISH_PATH, \"tests/test_data/final-english-translation-ncd.txt\")\n",
    "fscore.build()\n",
    "fscore.calculate()"
   ]
  },
  {
   "cell_type": "markdown",
   "metadata": {},
   "source": [
    "# Extra Credit"
   ]
  },
  {
   "cell_type": "code",
   "execution_count": 27,
   "metadata": {},
   "outputs": [],
   "source": [
    "import numpy as np\n",
    "import matplotlib.pyplot as plt"
   ]
  },
  {
   "cell_type": "code",
   "execution_count": 29,
   "metadata": {},
   "outputs": [
    {
     "data": {
      "image/png": "[encoded data removed]",
      "text/plain": [
       "<Figure size 432x288 with 1 Axes>"
      ]
     },
     "metadata": {
      "needs_background": "light"
     },
     "output_type": "display_data"
    }
   ],
   "source": [
    "\n",
    "sequence = list(np.arange(0.2, 0.9, 0.1))\n",
    "fscores = []\n",
    "for i, epsilon in enumerate(sequence):\n",
    "    noisy_decoder.decode_document(SHORT_FRENCH_PATH)\n",
    "    noisy_decoder.THRESHOLD = epsilon\n",
    "    noisy_decoder.to_file(f\"../out/test-{i+1}-e{epsilon}.txt\")\n",
    "\n",
    "\n",
    "for i, epsilon in enumerate(sequence):\n",
    "    fscore = FScore.from_file(SHORT_ENGLISH_PATH, f\"../out/test-{i+1}-e{epsilon}.txt\")\n",
    "    fscore.build()\n",
    "    f = fscore.calculate()\n",
    "    fscores.append(f)\n",
    "    \n",
    "\n",
    "xpoints = np.array(sequence)\n",
    "ypoints = np.array(fscores)  \n",
    "plt.plot(xpoints, ypoints, 'o')\n",
    "plt.show()\n"
   ]
  },
  {
   "cell_type": "code",
   "execution_count": null,
   "metadata": {},
   "outputs": [],
   "source": [
    "x = range(1, 2)\n",
    "list(x)"
   ]
  },
  {
   "cell_type": "code",
   "execution_count": null,
   "metadata": {},
   "outputs": [],
   "source": [
    "sequence = list(np.arange(0.25, 1, 0.25))\n",
    "print(sequence)"
   ]
  },
  {
   "cell_type": "code",
   "execution_count": 14,
   "metadata": {},
   "outputs": [
    {
     "data": {
      "text/plain": [
       "'débats de le Sénat ( hansard ) \\n'"
      ]
     },
     "execution_count": 14,
     "metadata": {},
     "output_type": "execute_result"
    }
   ],
   "source": [
    "with open(TEST_FRENCH_PATH, encoding=\"latin-1\") as fp:\n",
    "    french_test_data = fp.readlines()\n",
    "    \n",
    "french_test_data[0]"
   ]
  }
 ],
 "metadata": {
  "interpreter": {
   "hash": "31f2aee4e71d21fbe5cf8b01ff0e069b9275f58929596ceb00d14d90e3e16cd6"
  },
  "kernelspec": {
   "display_name": "Python 3.8.10 64-bit",
   "language": "python",
   "name": "python3"
  },
  "language_info": {
   "codemirror_mode": {
    "name": "ipython",
    "version": 3
   },
   "file_extension": ".py",
   "mimetype": "text/x-python",
   "name": "python",
   "nbconvert_exporter": "python",
   "pygments_lexer": "ipython3",
   "version": "3.8.10"
  },
  "orig_nbformat": 4
 },
 "nbformat": 4,
 "nbformat_minor": 2
}
